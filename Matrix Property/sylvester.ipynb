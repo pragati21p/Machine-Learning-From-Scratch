{
 "cells": [
  {
   "cell_type": "code",
   "execution_count": 40,
   "metadata": {},
   "outputs": [
    {
     "name": "stdout",
     "output_type": "stream",
     "text": [
      "[[ 2 -1  0]\n",
      " [-1  2 -1]\n",
      " [ 0 -1  2]] \n",
      "\n",
      "Positive Definite\n"
     ]
    }
   ],
   "source": [
    "# import libraries\n",
    "import pandas as pd\n",
    "import numpy as np\n",
    "\n",
    "\n",
    "# import dataset\n",
    "df = pd.read_csv(\"sylvester.csv\")\n",
    "\n",
    "# find determinant function\n",
    "def dtr(mat1):\n",
    "    \n",
    "    size = mat1.shape[0]\n",
    "    \n",
    "    if(size == 1): \n",
    "        return mat1[0,0]\n",
    "    \n",
    "    mat = mat1[0]\n",
    "    \n",
    "    summ = 0;\n",
    "    for i in range(size):\n",
    "        newmat = np.delete(mat1, 0, 0)\n",
    "        newmat = np.delete(newmat, i, 1)\n",
    "        \n",
    "        summ += (-1)**i * mat[i] * dtr(newmat)\n",
    "        dtr(newmat)\n",
    "        \n",
    "    return summ\n",
    "\n",
    "# sylvester criterion function\n",
    "def isPositiveDef(df):\n",
    "    size = df.shape[0]\n",
    "    valid = 1\n",
    "    for i in range(1,size+1):\n",
    "        mat = np.array(df.iloc[0:i,0:i].values)\n",
    "        val = dtr(mat)\n",
    "        \n",
    "        if(val<0):\n",
    "            valid = -1\n",
    "            break\n",
    "        elif val==0:\n",
    "            valid = 0\n",
    "    \n",
    "    return valid\n",
    "\n",
    "\n",
    "# sylvester criterion fn call\n",
    "strr = isPositiveDef(df)\n",
    "\n",
    "\n",
    "# print matrix\n",
    "print(df.values, \"\\n\")\n",
    "\n",
    "# print result\n",
    "if strr==0:\n",
    "    print(\"Positive Semi Definite\")\n",
    "elif strr==1:\n",
    "    print(\"Positive Definite\")\n",
    "else:\n",
    "    print(\"Not Positive Definite\")\n"
   ]
  },
  {
   "cell_type": "code",
   "execution_count": null,
   "metadata": {},
   "outputs": [],
   "source": []
  },
  {
   "cell_type": "code",
   "execution_count": null,
   "metadata": {},
   "outputs": [],
   "source": []
  }
 ],
 "metadata": {
  "kernelspec": {
   "display_name": "Python 3",
   "language": "python",
   "name": "python3"
  },
  "language_info": {
   "codemirror_mode": {
    "name": "ipython",
    "version": 3
   },
   "file_extension": ".py",
   "mimetype": "text/x-python",
   "name": "python",
   "nbconvert_exporter": "python",
   "pygments_lexer": "ipython3",
   "version": "3.7.0"
  }
 },
 "nbformat": 4,
 "nbformat_minor": 2
}
