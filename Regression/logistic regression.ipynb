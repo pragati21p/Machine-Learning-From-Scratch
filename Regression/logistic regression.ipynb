{
 "cells": [
  {
   "cell_type": "code",
   "execution_count": 2,
   "metadata": {},
   "outputs": [],
   "source": [
    "#  import libraries\n",
    "import numpy as np\n",
    "import pandas as pd\n",
    "import math\n",
    "import matplotlib.pyplot as plt\n",
    "from sklearn.model_selection import train_test_split\n",
    "\n",
    "# import dataset\n",
    "df = pd.read_csv(\"iris/iris.csv\")\n",
    "\n",
    "df = df[ df.Species != 'Iris-virginica']\n",
    "\n",
    "# prepare features\n",
    "X = df[['SepalLengthCm', 'SepalWidthCm', 'PetalLengthCm', 'PetalWidthCm']].values\n",
    "x1 = np.ones(( len(X) ,1))\n",
    "X = np.append(x1, X, axis=1)\n",
    "y = df[['Species']]\n",
    "y = y.replace('Iris-setosa', 0).replace('Iris-versicolor', 1).values\n",
    "\n",
    "# split training & testing data\n",
    "X_train, X_test, y_train, y_test = train_test_split( X, y, test_size=0.1, random_state=42)\n"
   ]
  },
  {
   "cell_type": "code",
   "execution_count": 57,
   "metadata": {},
   "outputs": [
    {
     "name": "stdout",
     "output_type": "stream",
     "text": [
      "0.7531116800149156\n"
     ]
    },
    {
     "data": {
      "image/png": "[encoded data removed]",
      "text/plain": [
       "<Figure size 432x288 with 1 Axes>"
      ]
     },
     "metadata": {
      "needs_background": "light"
     },
     "output_type": "display_data"
    },
    {
     "name": "stdout",
     "output_type": "stream",
     "text": [
      "W =  [[ 0.15872072]\n",
      " [-2.17541872]\n",
      " [ 0.10847676]\n",
      " [ 2.83589109]\n",
      " [ 4.81586656]] \n",
      "\n"
     ]
    }
   ],
   "source": [
    "def calcost(hp, y):\n",
    "    lghp = []\n",
    "    lghp1 = []\n",
    "    for i in range(len(hp)):\n",
    "        if(hp[i]==0) :\n",
    "            lghp.insert( len(lghp), 0 )\n",
    "        else :\n",
    "            lghp.insert(len(lghp),math.log(hp[i]))\n",
    "            \n",
    "        if(hp[i]==1) :\n",
    "            lghp1.insert( len(lghp1), 0 )\n",
    "        else :\n",
    "            lghp1.insert(len(lghp1),math.log(1 - hp[i]))\n",
    "    \n",
    "    lghp = np.array(lghp).reshape(( len(lghp), 1 ))\n",
    "    lghp1 = np.array(lghp1).reshape(( len(lghp1), 1 ))\n",
    "    \n",
    "    ans = -np.dot( np.transpose(y), lghp) - np.dot( np.transpose(1-y), lghp1 )\n",
    "#     print(ans)\n",
    "    return ans[0][0]\n",
    "    \n",
    "def calhypothesis(z):\n",
    "    size = z.shape[0]\n",
    "    cal = []\n",
    "    for it in range(size):\n",
    "#         print(size, z[it], it)\n",
    "        d1 = 1 / ( 1 + ( math.exp(-z[it]) ) )\n",
    "        cal.insert(len(cal),d1)\n",
    "    return np.array(cal)\n",
    "\n",
    "# perform gradient descent\n",
    "def performGD(X_train, y_train, theta):\n",
    "    alpha = 0.01\n",
    "    size = X_train.shape[0]\n",
    "    z1 = np.dot( X_train , theta)\n",
    "    hp = calhypothesis(z1)\n",
    "    z2 = np.subtract(hp.reshape( (y_train.shape[0], 1) ), y_train)\n",
    "#     print(hp.shape, z2.shape)\n",
    "    \n",
    "    z3 = np.dot( np.transpose(X_train), z2)\n",
    "    z4 = z3*(alpha/size)\n",
    "#     print(\"hello this is size \", theta.shape, z4.shape)\n",
    "    return (theta - z4), calcost(hp, y_train)\n",
    "\n",
    "# linear reg\n",
    "def linearReg(X_train, y_train, X_test, y_test):\n",
    "    size = X_train.shape[1]\n",
    "    theta = np.arange(1, size + 1).reshape((size,1))\n",
    "    cal = []\n",
    "    \n",
    "    iterations = 1450\n",
    "    for it in range(iterations):\n",
    "        theta, cost = performGD(X_train, y_train, theta)\n",
    "        \n",
    "#         y_pred = np.dot( X_test, theta)\n",
    "#         y_size= y_pred.shape[0]\n",
    "#         c1 = (math.sqrt(np.mean((y_pred - y_test)**2)))\n",
    "\n",
    "        cal.insert(len(cal),cost)\n",
    "        \n",
    "    c = np.arange(iterations)\n",
    "    print( cal[-1] )\n",
    "    plt.plot(c, cal, 'r') \n",
    "#     plt.plot(c, y_test, 'b')\n",
    "    plt.show()\n",
    "    \n",
    "    \n",
    "    return theta\n",
    "\n",
    "# call function\n",
    "\n",
    "W = linearReg(X_train, y_train, X_test, y_test)\n",
    "\n",
    "# print weights\n",
    "print( \"W = \", W,\"\\n\")\n"
   ]
  },
  {
   "cell_type": "code",
   "execution_count": 58,
   "metadata": {},
   "outputs": [
    {
     "data": {
      "text/plain": [
       "(100, 6)"
      ]
     },
     "execution_count": 58,
     "metadata": {},
     "output_type": "execute_result"
    }
   ],
   "source": [
    "df.shape"
   ]
  },
  {
   "cell_type": "code",
   "execution_count": null,
   "metadata": {},
   "outputs": [],
   "source": []
  }
 ],
 "metadata": {
  "kernelspec": {
   "display_name": "Python 3",
   "language": "python",
   "name": "python3"
  },
  "language_info": {
   "codemirror_mode": {
    "name": "ipython",
    "version": 3
   },
   "file_extension": ".py",
   "mimetype": "text/x-python",
   "name": "python",
   "nbconvert_exporter": "python",
   "pygments_lexer": "ipython3",
   "version": "3.7.0"
  }
 },
 "nbformat": 4,
 "nbformat_minor": 2
}
