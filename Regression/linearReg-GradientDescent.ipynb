{
 "cells": [
  {
   "cell_type": "code",
   "execution_count": 1,
   "metadata": {},
   "outputs": [],
   "source": [
    "#  import libraries\n",
    "import numpy as np\n",
    "import pandas as pd\n",
    "import math\n",
    "import matplotlib.pyplot as plt\n",
    "\n",
    "# import dataset\n",
    "df = pd.read_csv(\"Housing Price data set.csv\")\n",
    "\n",
    "# prepare features\n",
    "df['lotsize'] = df['lotsize'].div(1000)\n",
    "df['price'] = df['price'].div(1000)\n",
    "X = df[['lotsize', 'bedrooms']].values\n",
    "x1 = np.ones((546,1))\n",
    "X = np.append(x1, X, axis=1)\n",
    "y = df[['price']].values\n",
    "\n",
    "# split training & testing data\n",
    "from sklearn.model_selection import train_test_split\n",
    "X_train, X_test, y_train, y_test = train_test_split( X, y, test_size=0.1, random_state=42)\n",
    "\n"
   ]
  },
  {
   "cell_type": "code",
   "execution_count": 3,
   "metadata": {},
   "outputs": [
    {
     "data": {
      "image/png": "[encoded data removed]",
      "text/plain": [
       "<Figure size 432x288 with 1 Axes>"
      ]
     },
     "metadata": {
      "needs_background": "light"
     },
     "output_type": "display_data"
    },
    {
     "name": "stdout",
     "output_type": "stream",
     "text": [
      "[[ 4.84836879]\n",
      " [ 6.29540896]\n",
      " [10.50837355]] \n",
      "\n"
     ]
    }
   ],
   "source": [
    "\n",
    "# perform gradient descent\n",
    "def performGD(X_train, y_train, theta):\n",
    "    lmbda = 0.005\n",
    "    alpha = 0.01\n",
    "    size = X_train.shape[0]\n",
    "    z1 = np.dot( X_train , theta)\n",
    "    z2 = np.subtract(z1, y_train)\n",
    "#     print(X_train.shape, z2.shape)\n",
    "    \n",
    "    z3 = np.dot( np.transpose(X_train), z2)\n",
    "    z4 = z3*(alpha/size)\n",
    "    z5 = theta*(1 - alpha*lmbda/size)\n",
    "#     print(theta.shape, z4.shape)\n",
    "#     return (z5 - z4)\n",
    "    return (theta - z4) \n",
    "\n",
    "# linear reg\n",
    "def linearReg(X_train, y_train, X_test, y_test):\n",
    "    size = X_train.shape[1]\n",
    "    theta = np.arange(1, size + 1).reshape((size,1))\n",
    "    cal = []\n",
    "    for it in range(2000):\n",
    "        theta = performGD(X_train, y_train, theta)\n",
    "        y_pred = np.dot( X_test, theta)\n",
    "        y_size= y_pred.shape[0]\n",
    "        c1 = (math.sqrt(np.mean((y_pred - y_test)**2)))\n",
    "        cal.insert(len(cal),c1)\n",
    "        \n",
    "    c = np.arange(2000)\n",
    "    cal1 = cal[:20]\n",
    "    plt.plot(c, cal, 'r') \n",
    "#     plt.plot(c, y_test, 'b')\n",
    "    plt.show()\n",
    "    \n",
    "    \n",
    "    return theta\n",
    "\n",
    "# call function\n",
    "\n",
    "W = linearReg(X_train, y_train, X_test, y_test)\n",
    "\n",
    "# print weights\n",
    "print(W,\"\\n\")\n"
   ]
  },
  {
   "cell_type": "code",
   "execution_count": null,
   "metadata": {},
   "outputs": [],
   "source": []
  },
  {
   "cell_type": "code",
   "execution_count": null,
   "metadata": {},
   "outputs": [],
   "source": []
  },
  {
   "cell_type": "code",
   "execution_count": null,
   "metadata": {},
   "outputs": [],
   "source": []
  }
 ],
 "metadata": {
  "kernelspec": {
   "display_name": "Python 3",
   "language": "python",
   "name": "python3"
  },
  "language_info": {
   "codemirror_mode": {
    "name": "ipython",
    "version": 3
   },
   "file_extension": ".py",
   "mimetype": "text/x-python",
   "name": "python",
   "nbconvert_exporter": "python",
   "pygments_lexer": "ipython3",
   "version": "3.7.0"
  }
 },
 "nbformat": 4,
 "nbformat_minor": 2
}
