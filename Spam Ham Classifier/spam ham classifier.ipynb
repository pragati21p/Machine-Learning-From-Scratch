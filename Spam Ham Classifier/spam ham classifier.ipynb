{
 "cells": [
  {
   "cell_type": "code",
   "execution_count": 1,
   "metadata": {},
   "outputs": [],
   "source": [
    "import numpy as np\n",
    "import matplotlib.pyplot as plt\n",
    "import pandas as pd\n",
    "from sklearn.model_selection import train_test_split, StratifiedShuffleSplit\n",
    "from sklearn.utils import shuffle\n",
    "from sklearn.metrics import confusion_matrix\n",
    "import seaborn as sns"
   ]
  },
  {
   "cell_type": "code",
   "execution_count": 10,
   "metadata": {},
   "outputs": [
    {
     "data": {
      "text/html": [
       "<div>\n",
       "<style scoped>\n",
       "    .dataframe tbody tr th:only-of-type {\n",
       "        vertical-align: middle;\n",
       "    }\n",
       "\n",
       "    .dataframe tbody tr th {\n",
       "        vertical-align: top;\n",
       "    }\n",
       "\n",
       "    .dataframe thead th {\n",
       "        text-align: right;\n",
       "    }\n",
       "</style>\n",
       "<table border=\"1\" class=\"dataframe\">\n",
       "  <thead>\n",
       "    <tr style=\"text-align: right;\">\n",
       "      <th></th>\n",
       "      <th>v1</th>\n",
       "      <th>v2</th>\n",
       "      <th>Unnamed: 2</th>\n",
       "      <th>Unnamed: 3</th>\n",
       "      <th>Unnamed: 4</th>\n",
       "    </tr>\n",
       "  </thead>\n",
       "  <tbody>\n",
       "    <tr>\n",
       "      <th>0</th>\n",
       "      <td>ham</td>\n",
       "      <td>Go until jurong point, crazy.. Available only ...</td>\n",
       "      <td>NaN</td>\n",
       "      <td>NaN</td>\n",
       "      <td>NaN</td>\n",
       "    </tr>\n",
       "    <tr>\n",
       "      <th>1</th>\n",
       "      <td>ham</td>\n",
       "      <td>Ok lar... Joking wif u oni...</td>\n",
       "      <td>NaN</td>\n",
       "      <td>NaN</td>\n",
       "      <td>NaN</td>\n",
       "    </tr>\n",
       "    <tr>\n",
       "      <th>2</th>\n",
       "      <td>spam</td>\n",
       "      <td>Free entry in 2 a wkly comp to win FA Cup fina...</td>\n",
       "      <td>NaN</td>\n",
       "      <td>NaN</td>\n",
       "      <td>NaN</td>\n",
       "    </tr>\n",
       "    <tr>\n",
       "      <th>3</th>\n",
       "      <td>ham</td>\n",
       "      <td>U dun say so early hor... U c already then say...</td>\n",
       "      <td>NaN</td>\n",
       "      <td>NaN</td>\n",
       "      <td>NaN</td>\n",
       "    </tr>\n",
       "    <tr>\n",
       "      <th>4</th>\n",
       "      <td>ham</td>\n",
       "      <td>Nah I don't think he goes to usf, he lives aro...</td>\n",
       "      <td>NaN</td>\n",
       "      <td>NaN</td>\n",
       "      <td>NaN</td>\n",
       "    </tr>\n",
       "  </tbody>\n",
       "</table>\n",
       "</div>"
      ],
      "text/plain": [
       "     v1                                                 v2 Unnamed: 2  \\\n",
       "0   ham  Go until jurong point, crazy.. Available only ...        NaN   \n",
       "1   ham                      Ok lar... Joking wif u oni...        NaN   \n",
       "2  spam  Free entry in 2 a wkly comp to win FA Cup fina...        NaN   \n",
       "3   ham  U dun say so early hor... U c already then say...        NaN   \n",
       "4   ham  Nah I don't think he goes to usf, he lives aro...        NaN   \n",
       "\n",
       "  Unnamed: 3 Unnamed: 4  \n",
       "0        NaN        NaN  \n",
       "1        NaN        NaN  \n",
       "2        NaN        NaN  \n",
       "3        NaN        NaN  \n",
       "4        NaN        NaN  "
      ]
     },
     "execution_count": 10,
     "metadata": {},
     "output_type": "execute_result"
    }
   ],
   "source": [
    "df = pd.read_csv('sms-spam-collection-dataset/spam.csv', encoding = 'latin-1')\n",
    "df.head()"
   ]
  },
  {
   "cell_type": "code",
   "execution_count": 11,
   "metadata": {},
   "outputs": [
    {
     "data": {
      "text/html": [
       "<div>\n",
       "<style scoped>\n",
       "    .dataframe tbody tr th:only-of-type {\n",
       "        vertical-align: middle;\n",
       "    }\n",
       "\n",
       "    .dataframe tbody tr th {\n",
       "        vertical-align: top;\n",
       "    }\n",
       "\n",
       "    .dataframe thead th {\n",
       "        text-align: right;\n",
       "    }\n",
       "</style>\n",
       "<table border=\"1\" class=\"dataframe\">\n",
       "  <thead>\n",
       "    <tr style=\"text-align: right;\">\n",
       "      <th></th>\n",
       "      <th>label</th>\n",
       "      <th>message</th>\n",
       "      <th>Unnamed: 2</th>\n",
       "      <th>Unnamed: 3</th>\n",
       "      <th>Unnamed: 4</th>\n",
       "    </tr>\n",
       "  </thead>\n",
       "  <tbody>\n",
       "    <tr>\n",
       "      <th>0</th>\n",
       "      <td>0</td>\n",
       "      <td>Go until jurong point, crazy.. Available only ...</td>\n",
       "      <td>NaN</td>\n",
       "      <td>NaN</td>\n",
       "      <td>NaN</td>\n",
       "    </tr>\n",
       "    <tr>\n",
       "      <th>1</th>\n",
       "      <td>0</td>\n",
       "      <td>Ok lar... Joking wif u oni...</td>\n",
       "      <td>NaN</td>\n",
       "      <td>NaN</td>\n",
       "      <td>NaN</td>\n",
       "    </tr>\n",
       "    <tr>\n",
       "      <th>2</th>\n",
       "      <td>1</td>\n",
       "      <td>Free entry in 2 a wkly comp to win FA Cup fina...</td>\n",
       "      <td>NaN</td>\n",
       "      <td>NaN</td>\n",
       "      <td>NaN</td>\n",
       "    </tr>\n",
       "    <tr>\n",
       "      <th>3</th>\n",
       "      <td>0</td>\n",
       "      <td>U dun say so early hor... U c already then say...</td>\n",
       "      <td>NaN</td>\n",
       "      <td>NaN</td>\n",
       "      <td>NaN</td>\n",
       "    </tr>\n",
       "    <tr>\n",
       "      <th>4</th>\n",
       "      <td>0</td>\n",
       "      <td>Nah I don't think he goes to usf, he lives aro...</td>\n",
       "      <td>NaN</td>\n",
       "      <td>NaN</td>\n",
       "      <td>NaN</td>\n",
       "    </tr>\n",
       "  </tbody>\n",
       "</table>\n",
       "</div>"
      ],
      "text/plain": [
       "   label                                            message Unnamed: 2  \\\n",
       "0      0  Go until jurong point, crazy.. Available only ...        NaN   \n",
       "1      0                      Ok lar... Joking wif u oni...        NaN   \n",
       "2      1  Free entry in 2 a wkly comp to win FA Cup fina...        NaN   \n",
       "3      0  U dun say so early hor... U c already then say...        NaN   \n",
       "4      0  Nah I don't think he goes to usf, he lives aro...        NaN   \n",
       "\n",
       "  Unnamed: 3 Unnamed: 4  \n",
       "0        NaN        NaN  \n",
       "1        NaN        NaN  \n",
       "2        NaN        NaN  \n",
       "3        NaN        NaN  \n",
       "4        NaN        NaN  "
      ]
     },
     "execution_count": 11,
     "metadata": {},
     "output_type": "execute_result"
    }
   ],
   "source": [
    "df.rename(columns = {'v1': 'label', 'v2': 'message'}, inplace = True)\n",
    "df.label.replace(to_replace=['ham', 'spam'], value=[0, 1], inplace=True)\n",
    "df.head()"
   ]
  },
  {
   "cell_type": "code",
   "execution_count": 13,
   "metadata": {},
   "outputs": [
    {
     "data": {
      "text/html": [
       "<div>\n",
       "<style scoped>\n",
       "    .dataframe tbody tr th:only-of-type {\n",
       "        vertical-align: middle;\n",
       "    }\n",
       "\n",
       "    .dataframe tbody tr th {\n",
       "        vertical-align: top;\n",
       "    }\n",
       "\n",
       "    .dataframe thead th {\n",
       "        text-align: right;\n",
       "    }\n",
       "</style>\n",
       "<table border=\"1\" class=\"dataframe\">\n",
       "  <thead>\n",
       "    <tr style=\"text-align: right;\">\n",
       "      <th></th>\n",
       "      <th>label</th>\n",
       "      <th>message</th>\n",
       "      <th>Unnamed: 2</th>\n",
       "      <th>Unnamed: 3</th>\n",
       "      <th>Unnamed: 4</th>\n",
       "    </tr>\n",
       "  </thead>\n",
       "  <tbody>\n",
       "    <tr>\n",
       "      <th>4024</th>\n",
       "      <td>0</td>\n",
       "      <td>&amp;lt;#&amp;gt;  in mca. But not conform.</td>\n",
       "      <td>NaN</td>\n",
       "      <td>NaN</td>\n",
       "      <td>NaN</td>\n",
       "    </tr>\n",
       "    <tr>\n",
       "      <th>3014</th>\n",
       "      <td>0</td>\n",
       "      <td>&amp;lt;#&amp;gt;  mins but i had to stop somewhere f...</td>\n",
       "      <td>NaN</td>\n",
       "      <td>NaN</td>\n",
       "      <td>NaN</td>\n",
       "    </tr>\n",
       "    <tr>\n",
       "      <th>4264</th>\n",
       "      <td>0</td>\n",
       "      <td>&amp;lt;DECIMAL&amp;gt; m but its not a common car he...</td>\n",
       "      <td>NaN</td>\n",
       "      <td>NaN</td>\n",
       "      <td>NaN</td>\n",
       "    </tr>\n",
       "    <tr>\n",
       "      <th>2765</th>\n",
       "      <td>0</td>\n",
       "      <td>and  picking them up from various points</td>\n",
       "      <td>NaN</td>\n",
       "      <td>NaN</td>\n",
       "      <td>NaN</td>\n",
       "    </tr>\n",
       "    <tr>\n",
       "      <th>3671</th>\n",
       "      <td>0</td>\n",
       "      <td>came to look at the flat, seems ok, in his 50...</td>\n",
       "      <td>NaN</td>\n",
       "      <td>NaN</td>\n",
       "      <td>NaN</td>\n",
       "    </tr>\n",
       "  </tbody>\n",
       "</table>\n",
       "</div>"
      ],
      "text/plain": [
       "      label                                            message Unnamed: 2  \\\n",
       "4024      0                &lt;#&gt;  in mca. But not conform.        NaN   \n",
       "3014      0   &lt;#&gt;  mins but i had to stop somewhere f...        NaN   \n",
       "4264      0   &lt;DECIMAL&gt; m but its not a common car he...        NaN   \n",
       "2765      0           and  picking them up from various points        NaN   \n",
       "3671      0   came to look at the flat, seems ok, in his 50...        NaN   \n",
       "\n",
       "     Unnamed: 3 Unnamed: 4  \n",
       "4024        NaN        NaN  \n",
       "3014        NaN        NaN  \n",
       "4264        NaN        NaN  \n",
       "2765        NaN        NaN  \n",
       "3671        NaN        NaN  "
      ]
     },
     "execution_count": 13,
     "metadata": {},
     "output_type": "execute_result"
    }
   ],
   "source": [
    "arr, indexes = np.unique(df[:]['message'],return_index=True)\n",
    "df_uniq = df.iloc[indexes,:]\n",
    "df_uniq.head()"
   ]
  },
  {
   "cell_type": "code",
   "execution_count": 14,
   "metadata": {},
   "outputs": [],
   "source": [
    "def clean_text(message):\n",
    "    dummy = message.replace(\"&gt\",\"\").replace(\"&lt\",\"\").lower()\n",
    "    clean = ''.join(ch for ch in dummy if ch.isalnum() or ch == ' ')\n",
    "    return clean.strip()"
   ]
  },
  {
   "cell_type": "code",
   "execution_count": 15,
   "metadata": {},
   "outputs": [],
   "source": [
    "X = df_uniq['message'].values\n",
    "for i, message in enumerate(X):\n",
    "    X[i] = clean_text(message)\n",
    "\n",
    "y = df_uniq['label'].values"
   ]
  },
  {
   "cell_type": "code",
   "execution_count": 16,
   "metadata": {},
   "outputs": [
    {
     "name": "stdout",
     "output_type": "stream",
     "text": [
      "3618\n",
      "1551\n"
     ]
    }
   ],
   "source": [
    "X_train, X_test, y_train, y_test = train_test_split(X, y, test_size=0.3)\n",
    "print(len(X_train))\n",
    "print(len(X_test))"
   ]
  },
  {
   "cell_type": "code",
   "execution_count": 17,
   "metadata": {},
   "outputs": [],
   "source": [
    "class SpamClassifier(object):\n",
    "    \n",
    "    def __init__(self, X, y):\n",
    "        self.X = X\n",
    "        self.y = y\n",
    "    \n",
    "    def train(self):\n",
    "        self.get_words_spam_ham()\n",
    "        self.get_prob_words_spam_ham()\n",
    "\n",
    "    def calc_prob_spam_ham(self):  # Calculates P(ham) and P(spam)\n",
    "        c1 = len(self.y[self.y == 0])\n",
    "        c2 = len(self.y[self.y == 1])\n",
    "    \n",
    "        p1 = c1 / (c1 + c2)\n",
    "        p2 = c2 / (c1 + c2)\n",
    "\n",
    "        return p1,p2\n",
    "    \n",
    "    def extract_words(self, msg):       # Extracts words from a sentence\n",
    "        words = []\n",
    "        for word in msg.split():\n",
    "            if word not in words:\n",
    "                words.append(word)\n",
    "        return words\n",
    "    \n",
    "    def get_words_spam_ham(self):     # Gets count of all words present in spam and ham emails differently\n",
    "        self.ham_words = {}\n",
    "        self.spam_words = {}\n",
    "        for i,msg in enumerate(X):\n",
    "            if y[i] == 0:\n",
    "                for word in msg.split():\n",
    "                    if word not in self.ham_words:\n",
    "                        self.ham_words[word] = 1\n",
    "                    else:\n",
    "                        self.ham_words[word] += 1    \n",
    "            else:\n",
    "                for word in msg.split():\n",
    "                    if word not in self.spam_words:\n",
    "                        self.spam_words[word] = 1\n",
    "                    else:\n",
    "                        self.spam_words[word] += 1\n",
    "    \n",
    "    def get_prob_words_spam_ham(self): # Calculates P(wi|spam) and P(wi|ham) for every word wi\n",
    "        \n",
    "        # Probability of word being ham, from list of words in ham\n",
    "        self.word_ham_prob = {}\n",
    "        for k,v in self.ham_words.items():\n",
    "            if k in self.spam_words:\n",
    "                self.word_ham_prob[k] = v / (self.spam_words[k] + v)\n",
    "            else:\n",
    "                self.word_ham_prob[k] = 1\n",
    "        \n",
    "        # Proabability of word being spam, from list of words in spam\n",
    "        self.word_spam_prob = {}\n",
    "        for k,v in self.spam_words.items():\n",
    "            if k in self.ham_words:\n",
    "                self.word_spam_prob[k] = v / (self.ham_words[k] + v)\n",
    "            else:\n",
    "                self.word_spam_prob[k] = 1\n",
    "        # print(self.word_ham_prob)\n",
    "        # print(self.word_spam_prob)\n",
    "    \n",
    "    def classify(self,msg):\n",
    "        words = self.extract_words(msg)\n",
    "        prob_h = 1\n",
    "        prob_s = 1\n",
    "        p_ham, p_spam = self.calc_prob_spam_ham()\n",
    "        \n",
    "        for word in words:\n",
    "            if word in self.word_spam_prob:\n",
    "                prob_s *= self.word_spam_prob[word]\n",
    "            else:                 # For a new word assume p = 0.5\n",
    "                prob_s *= 0.5\n",
    "        pSpam = prob_s * p_spam\n",
    "        \n",
    "        for word in words:\n",
    "            if word in self.word_ham_prob:\n",
    "                prob_h *= self.word_ham_prob[word]\n",
    "            else:                 # For a new word assume p = 0.5\n",
    "                prob_h *= 0.5\n",
    "        pHam = prob_h * p_ham\n",
    "        \n",
    "        return pSpam >= pHam\n",
    "    \n",
    "    def predict(self, testData):\n",
    "        result = []\n",
    "        for (i, message) in enumerate(testData):\n",
    "            processed_message = clean_text(message)\n",
    "            result.append(int(self.classify(processed_message)))\n",
    "        \n",
    "        return result"
   ]
  },
  {
   "cell_type": "code",
   "execution_count": 26,
   "metadata": {},
   "outputs": [],
   "source": [
    "def metrics(labels, predictions):\n",
    "    true_pos, true_neg, false_pos, false_neg = 0, 0, 0, 0\n",
    "    for i in range(len(labels)):\n",
    "        true_pos += int(labels[i] == 1 and predictions[i] == 1)\n",
    "        true_neg += int(labels[i] == 0 and predictions[i] == 0)\n",
    "        false_pos += int(labels[i] == 0 and predictions[i] == 1)\n",
    "        false_neg += int(labels[i] == 1 and predictions[i] == 0)\n",
    "    precision = true_pos / (true_pos + false_pos)\n",
    "    recall = true_pos / (true_pos + false_neg)\n",
    "    Fscore = 2 * precision * recall / (precision + recall)\n",
    "    accuracy = (true_pos + true_neg) / (true_pos + true_neg + false_pos + false_neg)\n",
    "\n",
    "    print(\"Precision: \", precision)\n",
    "    print(\"Recall: \", recall)\n",
    "    print(\"F-score: \", Fscore)\n",
    "    print(\"Accuracy: \", accuracy)"
   ]
  },
  {
   "cell_type": "code",
   "execution_count": 19,
   "metadata": {},
   "outputs": [
    {
     "name": "stdout",
     "output_type": "stream",
     "text": [
      "Precision:  1.0\n",
      "Recall:  0.44549763033175355\n",
      "F-score:  0.6163934426229508\n",
      "Accuracy:  0.9245647969052224\n"
     ]
    }
   ],
   "source": [
    "sc = SpamClassifier(X_train,y_train)\n",
    "sc.train()\n",
    "y_pred = sc.predict(X_test)\n",
    "metrics(y_test,y_pred)"
   ]
  },
  {
   "cell_type": "code",
   "execution_count": 20,
   "metadata": {},
   "outputs": [
    {
     "data": {
      "image/png": "[encoded data removed]",
      "text/plain": [
       "<Figure size 432x288 with 2 Axes>"
      ]
     },
     "metadata": {},
     "output_type": "display_data"
    }
   ],
   "source": [
    "# Function to plot Confusion Matrix\n",
    "def plot_confusion_matrix(Y_pred,Y):\n",
    "    cm = confusion_matrix(Y_pred, Y, labels=None, sample_weight=None)\n",
    "    \n",
    "    df_cm = pd.DataFrame(cm, range(2), range(2))\n",
    "    sns.set(font_scale = 1.4) #for label size\n",
    "    ax = sns.heatmap(df_cm, annot = True, annot_kws = {\"size\": 16})\n",
    "    ax.set_title(\"Confusion Matrix\")\n",
    "    ax.set(xlabel = 'Predicted Class', ylabel = 'Actual Class')\n",
    "    plt.show()\n",
    "\n",
    "plot_confusion_matrix(y_pred,y_test)"
   ]
  },
  {
   "cell_type": "code",
   "execution_count": 35,
   "metadata": {},
   "outputs": [
    {
     "name": "stdout",
     "output_type": "stream",
     "text": [
      "soft computing assignment\n"
     ]
    },
    {
     "data": {
      "text/plain": [
       "[0]"
      ]
     },
     "execution_count": 35,
     "metadata": {},
     "output_type": "execute_result"
    }
   ],
   "source": [
    "z = input()\n",
    "sc.predict([z])"
   ]
  },
  {
   "cell_type": "code",
   "execution_count": 32,
   "metadata": {},
   "outputs": [
    {
     "data": {
      "text/plain": [
       "array(['i donno its in your genes or something', 'how are you i miss you',\n",
       "       'maybe if you woke up before fucking 3 this wouldnt be a problem',\n",
       "       ...,\n",
       "       'im in inperialmusic listening2the weirdest track ever byåóleafcutter johnåósounds like insects being molestedsomeone plumbingremixed by evil men on acid',\n",
       "       'are you the cutest girl in the world or what',\n",
       "       'you call him and tell now infront of them call him now'],\n",
       "      dtype=object)"
      ]
     },
     "execution_count": 32,
     "metadata": {},
     "output_type": "execute_result"
    }
   ],
   "source": [
    "X_test"
   ]
  },
  {
   "cell_type": "code",
   "execution_count": null,
   "metadata": {},
   "outputs": [],
   "source": []
  }
 ],
 "metadata": {
  "kernelspec": {
   "display_name": "Python 3",
   "language": "python",
   "name": "python3"
  },
  "language_info": {
   "codemirror_mode": {
    "name": "ipython",
    "version": 3
   },
   "file_extension": ".py",
   "mimetype": "text/x-python",
   "name": "python",
   "nbconvert_exporter": "python",
   "pygments_lexer": "ipython3",
   "version": "3.7.0"
  }
 },
 "nbformat": 4,
 "nbformat_minor": 2
}
